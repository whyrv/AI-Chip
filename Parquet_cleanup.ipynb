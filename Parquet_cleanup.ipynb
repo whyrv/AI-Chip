{
  "nbformat": 4,
  "nbformat_minor": 0,
  "metadata": {
    "colab": {
      "provenance": [],
      "authorship_tag": "ABX9TyNsWorZAG0fPqAzm8Cj3ATD",
      "include_colab_link": true
    },
    "kernelspec": {
      "name": "python3",
      "display_name": "Python 3"
    },
    "language_info": {
      "name": "python"
    }
  },
  "cells": [
    {
      "cell_type": "markdown",
      "metadata": {
        "id": "view-in-github",
        "colab_type": "text"
      },
      "source": [
        "<a href=\"https://colab.research.google.com/github/whyrv/AI-Chip/blob/master/Parquet_cleanup.ipynb\" target=\"_parent\"><img src=\"https://colab.research.google.com/assets/colab-badge.svg\" alt=\"Open In Colab\"/></a>"
      ]
    },
    {
      "cell_type": "code",
      "source": [
        "!pip install ipython-autotime\n",
        "%load_ext autotime\n",
        "import time\n",
        "t1 = time.perf_counter()"
      ],
      "metadata": {
        "id": "XmE8XKoq3-Mf"
      },
      "execution_count": null,
      "outputs": []
    },
    {
      "cell_type": "code",
      "execution_count": null,
      "metadata": {
        "id": "kn31ueLCjQMY"
      },
      "outputs": [],
      "source": [
        "import pandas as pd\n",
        "import numpy as np\n",
        "import datetime\n",
        "from matplotlib import pyplot as plt\n",
        "from pandas.tseries.frequencies import to_offset\n",
        "from google.colab import files"
      ]
    },
    {
      "cell_type": "markdown",
      "source": [],
      "metadata": {
        "id": "xNrd3rwMEKw_"
      }
    },
    {
      "cell_type": "code",
      "source": [
        "symbol = 'AAPL'"
      ],
      "metadata": {
        "id": "ZMpGGGsOolgQ"
      },
      "execution_count": null,
      "outputs": []
    },
    {
      "cell_type": "code",
      "source": [
        "df = pd.read_parquet('{}.parquet'.format(symbol))"
      ],
      "metadata": {
        "id": "28CJ6lzijsKl"
      },
      "execution_count": null,
      "outputs": []
    },
    {
      "cell_type": "code",
      "source": [
        "df.columns = ['datetime', 'open', 'high', 'low', 'close', 'vol']"
      ],
      "metadata": {
        "id": "RDzfdS5F22kH"
      },
      "execution_count": null,
      "outputs": []
    },
    {
      "cell_type": "markdown",
      "source": [
        "## Only keep market hour data and discard pre and post market"
      ],
      "metadata": {
        "id": "4c6QK9BAQXR-"
      }
    },
    {
      "cell_type": "markdown",
      "source": [
        "* Drop everything before 9:30 a.m. and after 16:01 p.m. "
      ],
      "metadata": {
        "id": "3BHJteFzQiCZ"
      }
    },
    {
      "cell_type": "code",
      "source": [
        "df.drop(df.index[df['datetime'].dt.hour < 9] , inplace = True)"
      ],
      "metadata": {
        "id": "roqXvQZ1DcEi"
      },
      "execution_count": null,
      "outputs": []
    },
    {
      "cell_type": "code",
      "source": [
        "df.drop(df.index[(df['datetime'].dt.hour == 9) & (df['datetime'].dt.minute < 30)], inplace=True)"
      ],
      "metadata": {
        "id": "YXrsUr-kHR8X"
      },
      "execution_count": null,
      "outputs": []
    },
    {
      "cell_type": "code",
      "source": [
        "df.drop(df.index[df['datetime'].dt.hour > 16] , inplace = True)"
      ],
      "metadata": {
        "id": "FyLHSNmHH29R"
      },
      "execution_count": null,
      "outputs": []
    },
    {
      "cell_type": "code",
      "source": [
        "df.drop(df.index[(df['datetime'].dt.hour == 16) & (df['datetime'].dt.minute > 1)], inplace=True)"
      ],
      "metadata": {
        "id": "_B1yXzqtIGZt"
      },
      "execution_count": null,
      "outputs": []
    },
    {
      "cell_type": "code",
      "source": [
        "df[df['datetime'].dt.year == 2007]"
      ],
      "metadata": {
        "id": "5aPNtkBQgtU7"
      },
      "execution_count": null,
      "outputs": []
    },
    {
      "cell_type": "code",
      "source": [
        "df.info()"
      ],
      "metadata": {
        "id": "9YtaiIBcHm-i"
      },
      "execution_count": null,
      "outputs": []
    },
    {
      "cell_type": "markdown",
      "source": [
        "## Auto detect splits and add as a column\n",
        "* Figure out the split factor\n",
        "* Divide the price up to the split and multiply the volume up to the split."
      ],
      "metadata": {
        "id": "r0xWVNudThh1"
      }
    },
    {
      "cell_type": "code",
      "source": [
        "times = df[['datetime']].to_numpy()\n",
        "days = df['datetime'].dt.day\n",
        "daysnumpy = days.to_numpy()\n",
        "close = df[['close']].to_numpy()"
      ],
      "metadata": {
        "id": "JZY3Y6bgOIN1"
      },
      "execution_count": null,
      "outputs": []
    },
    {
      "cell_type": "code",
      "source": [
        "assert len(close) == len(days)"
      ],
      "metadata": {
        "id": "dBuptzNVXkzt"
      },
      "execution_count": null,
      "outputs": []
    },
    {
      "cell_type": "code",
      "source": [
        "splitf = np.ones(len(close))\n",
        "for i in range(1, len(close)):\n",
        "  prev_day = daysnumpy[i-1]\n",
        "  new_day = daysnumpy[i]\n",
        "  # prev_day = times[i-1][0].astype('datetime64[D]')\n",
        "  # new_day = times[i][0].astype('datetime64[D]')\n",
        "  if i == 318:\n",
        "    print(\"{} {}\".format(prev_day, new_day))\n",
        "  # only check for splits on day boundaries\n",
        "  if prev_day == new_day:\n",
        "    continue\n",
        "  # check for reverse split \n",
        "  is_rev_split = False\n",
        "  if close[i] > close[i-1]:\n",
        "    is_rev_split = True\n",
        "    q = close[i].item()/close[i-1].item()\n",
        "  else:\n",
        "    q = close[i-1].item()/close[i].item()\n",
        "  # use round to get the integer not floor or int\n",
        "  qint = round(q)\n",
        "  # make sure that this is a real split. the round up or down should be very close to \n",
        "  # the original unrounded number. like 6.93 rounded up to 7 in the case of AAPL\n",
        "  diff = 100*abs(q-qint)/q\n",
        "  # so the split (or reverse) should be 2x or more and the round-error < 10%\n",
        "  if qint >= 2 and diff <= 10:\n",
        "    if is_rev_split:\n",
        "      fac = q_int\n",
        "    else:\n",
        "      fac = 1.0 / qint\n",
        "    t = pd.to_datetime(times[i][0]).strftime('%m-%d-%Y')\n",
        "    splitf[:i] *= fac\n",
        "    print('{}: stock split on {} by {} == {}-->{} ({})'.format(i, t, fac, close[i-1], close[i], splitf[0]))\n"
      ],
      "metadata": {
        "id": "ANCd7P5OL0-T"
      },
      "execution_count": null,
      "outputs": []
    },
    {
      "cell_type": "code",
      "source": [
        "plt.plot(splitf)"
      ],
      "metadata": {
        "id": "LlcAXkpfUuTB"
      },
      "execution_count": null,
      "outputs": []
    },
    {
      "cell_type": "code",
      "source": [
        "assert len(df['close']) == len(splitf)"
      ],
      "metadata": {
        "id": "u3AEs7qpr3bX"
      },
      "execution_count": null,
      "outputs": []
    },
    {
      "cell_type": "code",
      "source": [
        "df['realClose'] = df['close']\n",
        "df['close'] *= splitf\n",
        "df['open'] *= splitf\n",
        "df['high'] *= splitf\n",
        "df['low'] *= splitf\n",
        "df['vol'] /= splitf"
      ],
      "metadata": {
        "id": "8RfVPIConePH"
      },
      "execution_count": null,
      "outputs": []
    },
    {
      "cell_type": "code",
      "source": [
        "df.head()"
      ],
      "metadata": {
        "id": "ZEvUMYt4pYYD"
      },
      "execution_count": null,
      "outputs": []
    },
    {
      "cell_type": "code",
      "source": [
        "df.tail()"
      ],
      "metadata": {
        "id": "4A0k7KIip9BO"
      },
      "execution_count": null,
      "outputs": []
    },
    {
      "cell_type": "markdown",
      "source": [
        "## next"
      ],
      "metadata": {
        "id": "jKqdWG9xU1xH"
      }
    },
    {
      "cell_type": "code",
      "source": [
        "df.set_index('datetime')"
      ],
      "metadata": {
        "id": "opRNoXw53AJx"
      },
      "execution_count": null,
      "outputs": []
    },
    {
      "cell_type": "markdown",
      "source": [
        "Drop the initial rows of the dataframe till we get to a 9:30 start. Sometimes the df for a symbol starts in the middle of the day."
      ],
      "metadata": {
        "id": "zTyI2mE1B5Hq"
      }
    },
    {
      "cell_type": "code",
      "source": [
        "done = False\n",
        "i = 0\n",
        "while not done:\n",
        "  if (df.iat[i,0].hour == 9 and df.iat[i,0].minute == 30):\n",
        "    done = True\n",
        "  else:\n",
        "    i += 1\n",
        "df = df.iloc[i: , :]\n",
        "df.head()"
      ],
      "metadata": {
        "id": "i4LJiXuoA7BN"
      },
      "execution_count": null,
      "outputs": []
    },
    {
      "cell_type": "code",
      "source": [
        "df.info()"
      ],
      "metadata": {
        "id": "aZWjVuiCCFIt"
      },
      "execution_count": null,
      "outputs": []
    },
    {
      "cell_type": "markdown",
      "source": [
        "## Now aggregate the 1-min to 5-min bars. "
      ],
      "metadata": {
        "id": "z-6FKLZrRLow"
      }
    },
    {
      "cell_type": "code",
      "source": [
        "# Defines how to aggregate pricing when downsampling OHLC\n",
        "# data into a broader time period. e.g. 1-min data -> 5 min data.\n",
        "price_mapping = {\n",
        "    \"open\": \"first\",\n",
        "    \"high\": \"max\",\n",
        "    \"low\": \"min\",\n",
        "    \"close\": \"last\",\n",
        "    \"vol\": \"sum\",\n",
        "    \"realClose\": \"last\"\n",
        "}"
      ],
      "metadata": {
        "id": "L8LrfiGttbM5"
      },
      "execution_count": null,
      "outputs": []
    },
    {
      "cell_type": "code",
      "source": [
        "xx = df.set_index('datetime').resample('5T').agg(price_mapping)"
      ],
      "metadata": {
        "id": "DKFbtXjyKCoW"
      },
      "execution_count": null,
      "outputs": []
    },
    {
      "cell_type": "markdown",
      "source": [
        "* We need to shift the index so that the aggregation appears on the close of the bar, not the start."
      ],
      "metadata": {
        "id": "1P4XvGdmRT3W"
      }
    },
    {
      "cell_type": "code",
      "source": [
        "loffset='5T'\n",
        "xx.index = xx.index + to_offset(loffset)"
      ],
      "metadata": {
        "id": "noUDhKjIxkjO"
      },
      "execution_count": null,
      "outputs": []
    },
    {
      "cell_type": "code",
      "source": [
        "len(xx.index)"
      ],
      "metadata": {
        "id": "vJoi-s7djDMP"
      },
      "execution_count": null,
      "outputs": []
    },
    {
      "cell_type": "code",
      "source": [
        "xx = xx.dropna()"
      ],
      "metadata": {
        "id": "7JswDsR-i4Mk"
      },
      "execution_count": null,
      "outputs": []
    },
    {
      "cell_type": "code",
      "source": [
        "xx.head()"
      ],
      "metadata": {
        "id": "vG_BT-oanwoY"
      },
      "execution_count": null,
      "outputs": []
    },
    {
      "cell_type": "code",
      "source": [
        "len(xx.index)"
      ],
      "metadata": {
        "id": "TEGgaUWZjKC2"
      },
      "execution_count": null,
      "outputs": []
    },
    {
      "cell_type": "markdown",
      "source": [
        "## Aggregate to daily bars and calculate pivot points"
      ],
      "metadata": {
        "id": "AwqbQthIDF_W"
      }
    },
    {
      "cell_type": "code",
      "source": [
        "zz = df.set_index('datetime').resample('D').agg(price_mapping)"
      ],
      "metadata": {
        "id": "W9laQtgY08hK"
      },
      "execution_count": null,
      "outputs": []
    },
    {
      "cell_type": "code",
      "source": [
        "zz.tail()"
      ],
      "metadata": {
        "id": "zMVdYkG32fQC"
      },
      "execution_count": null,
      "outputs": []
    },
    {
      "cell_type": "code",
      "source": [
        "zz = zz.dropna()"
      ],
      "metadata": {
        "id": "RuosBfB6AvCx"
      },
      "execution_count": null,
      "outputs": []
    },
    {
      "cell_type": "markdown",
      "source": [
        "### Calculate pivot points"
      ],
      "metadata": {
        "id": "sSh3Y_AJUFfq"
      }
    },
    {
      "cell_type": "code",
      "source": [
        "zz = zz.copy() # avoid the infamous set on slice warning"
      ],
      "metadata": {
        "id": "kZSKpKx-_PXU"
      },
      "execution_count": null,
      "outputs": []
    },
    {
      "cell_type": "code",
      "source": [
        "zz['PP'] = (zz['high'] + zz['low'] + zz['close'])/3.0\n",
        "zz['R1'] = 2*zz['PP'] - zz['low']\n",
        "zz['S1'] = 2*zz['PP'] - zz['high']\n",
        "zz['R2'] = zz['PP'] + (zz['high'] - zz['low'])\n",
        "zz['S2'] = zz['PP'] - (zz['high'] - zz['low'])\n",
        "zz['R3'] = zz['high'] + 2*(zz['PP'] - zz['low'])\n",
        "zz['S3'] = zz['low'] - 2*(zz['high'] - zz['PP'])"
      ],
      "metadata": {
        "id": "x4J-894TA_KP"
      },
      "execution_count": null,
      "outputs": []
    },
    {
      "cell_type": "code",
      "source": [
        "zz.tail()"
      ],
      "metadata": {
        "id": "y5GXetuE_eN7"
      },
      "execution_count": null,
      "outputs": []
    },
    {
      "cell_type": "markdown",
      "source": [
        "##### Store the indices of the day start and day end bars. Because the start times are not guaranteed to be at 9:30, we are not guaranteed to have the same no. of bars per day. Hence exhaustive search."
      ],
      "metadata": {
        "id": "p0NaIDqdUdAD"
      }
    },
    {
      "cell_type": "code",
      "source": [
        "row_hours  = xx.index.hour\n",
        "end_ids = {}\n",
        "start_ids = {}\n",
        "for i in range(0, len(xx.index)-1):\n",
        "  if row_hours[i] > row_hours[i+1]:  # 16:x > 9:x quick way to check for date rollover\n",
        "    end_ids[i] = 0\n",
        "    start_ids[i+1] = 0\n",
        "\n",
        "# add the last row anyway\n",
        "end_ids[len(xx.index)-1] = 0\n",
        "assert len(end_ids) == len(zz.index)"
      ],
      "metadata": {
        "id": "7hPYXKk1RCQ8"
      },
      "execution_count": null,
      "outputs": []
    },
    {
      "cell_type": "markdown",
      "source": [
        "# Date Generation\n",
        "convert datetime index back to column\n",
        "then remap to new dates"
      ],
      "metadata": {
        "id": "8lJnPWUIxZV_"
      }
    },
    {
      "cell_type": "markdown",
      "source": [
        "* First reset the index"
      ],
      "metadata": {
        "id": "qPlkFYguSH6K"
      }
    },
    {
      "cell_type": "code",
      "source": [
        "xx = xx.reset_index()"
      ],
      "metadata": {
        "id": "uEoDdulCSHB8"
      },
      "execution_count": null,
      "outputs": []
    },
    {
      "cell_type": "code",
      "source": [
        "xx[xx.isnull().any(axis=1)]"
      ],
      "metadata": {
        "id": "cceHNfIBhgOq"
      },
      "execution_count": null,
      "outputs": []
    },
    {
      "cell_type": "code",
      "source": [
        "valid_dates = pd.bdate_range(start='1/1/1900', end='1/01/2021').strftime(\"%Y-%m-%d\").tolist()"
      ],
      "metadata": {
        "id": "0rJ4kghgV86C"
      },
      "execution_count": null,
      "outputs": []
    },
    {
      "cell_type": "code",
      "source": [
        "len(xx.index)/len(valid_dates)"
      ],
      "metadata": {
        "id": "5M_4hG__F9FO"
      },
      "execution_count": null,
      "outputs": []
    },
    {
      "cell_type": "code",
      "source": [
        "def remap_dates(datelist, num_rows):\n",
        "    Ds, Is = [], []\n",
        "    nd = len(datelist) - 79 \n",
        "    q = 0\n",
        "    id = 0\n",
        "    for i in range(0, num_rows):\n",
        "        if i in start_ids and id > nd:\n",
        "          #print('HERE: q={}, i={}'.format(q, i))\n",
        "          q += 1\n",
        "          id = 0\n",
        "          # record the remapped date\n",
        "        newdate = datelist[id]\n",
        "        id += 1\n",
        "        Ds.append(newdate)\n",
        "        Is.append(q)\n",
        "        if i in start_ids:\n",
        "          start_ids[i] = (q,newdate)\n",
        "        elif i in end_ids:\n",
        "          end_ids[i] = (q, newdate)\n",
        "    # print('nd={} last=i={} last q={} last id={}'.format(nd,i,q,id))\n",
        "    return pd.Series({'D': Ds,\n",
        "                      'I': Is})"
      ],
      "metadata": {
        "id": "DYCTIHsqY76c"
      },
      "execution_count": null,
      "outputs": []
    },
    {
      "cell_type": "code",
      "source": [
        "a,b = remap_dates(valid_dates, len(xx.index))"
      ],
      "metadata": {
        "id": "TlFJk-E3GiMr"
      },
      "execution_count": null,
      "outputs": []
    },
    {
      "cell_type": "code",
      "source": [
        "xx[['D', 'I']] = remap_dates(valid_dates, len(xx.index))"
      ],
      "metadata": {
        "id": "3zajgZ7Ra453"
      },
      "execution_count": null,
      "outputs": []
    },
    {
      "cell_type": "code",
      "source": [
        "xx.head(80)"
      ],
      "metadata": {
        "id": "s3wb6_4cfi18"
      },
      "execution_count": null,
      "outputs": []
    },
    {
      "cell_type": "code",
      "source": [
        "xx[xx['datetime'].dt.year == 2007]"
      ],
      "metadata": {
        "id": "Q44329L-dwUF"
      },
      "execution_count": null,
      "outputs": []
    },
    {
      "cell_type": "code",
      "source": [
        "xx[xx['I'] == 1]"
      ],
      "metadata": {
        "id": "Fms0RNn5f4Tw"
      },
      "execution_count": null,
      "outputs": []
    },
    {
      "cell_type": "markdown",
      "source": [
        "## Now create the event lists which hold the pivot points"
      ],
      "metadata": {
        "id": "HhP_DkOEc75j"
      }
    },
    {
      "cell_type": "code",
      "source": [
        "end_ids[78]"
      ],
      "metadata": {
        "id": "D5pWLjSFAgXk"
      },
      "execution_count": null,
      "outputs": []
    },
    {
      "cell_type": "code",
      "source": [
        "assert len(end_ids) == len(zz.index)"
      ],
      "metadata": {
        "id": "I-yQRfCrzPy8"
      },
      "execution_count": null,
      "outputs": []
    },
    {
      "cell_type": "code",
      "source": [
        "def symbol_from_level(sym, level):\n",
        "  return \"{}-{}\".format(sym, level)"
      ],
      "metadata": {
        "id": "i6QCz3NdvzCo"
      },
      "execution_count": null,
      "outputs": []
    },
    {
      "cell_type": "code",
      "source": [
        "pp = zz.columns.get_loc('PP')\n",
        "prevloc = pp\n",
        "for pivot in ('R1', 'S1', 'R2', 'S2', 'R3', 'S3'):\n",
        "  newloc = zz.columns.get_loc(pivot)\n",
        "  assert newloc == prevloc + 1, \"prev-{} newloc-{} pivot-{}\".format(prevloc, newloc, pivot)\n",
        "  prevloc = newloc"
      ],
      "metadata": {
        "id": "Z7Ernr5xlT5z"
      },
      "execution_count": null,
      "outputs": []
    },
    {
      "cell_type": "code",
      "source": [
        "xx.columns.get_loc('D')"
      ],
      "metadata": {
        "id": "nRvDrNomBG4k"
      },
      "execution_count": null,
      "outputs": []
    },
    {
      "cell_type": "code",
      "source": [
        "rows = []\n",
        "remap_loc = xx.columns.get_loc('D')\n",
        "k = 0\n",
        "for i in sorted(end_ids):\n",
        "  q, remapped_date = end_ids[i]\n",
        "  sym = symbol_from_level(symbol, q)\n",
        "  assert xx.iat[i, remap_loc] == remapped_date\n",
        "  # for each pivot point add sym,date,type,value in respective lists\n",
        "  # need one more assert that the zz's datetime matches\n",
        "  piv = 1\n",
        "  for pivotcol in range(pp, pp+7):\n",
        "    rows.append((sym, remapped_date, piv, zz.iat[k,pivotcol]))\n",
        "    piv += 1\n",
        "  k += 1\n",
        "\n",
        "ef = pd.DataFrame(rows, columns=['Symbol', 'Date', 'Type', 'Value'])"
      ],
      "metadata": {
        "id": "6r7rPWG2dmyn"
      },
      "execution_count": null,
      "outputs": []
    },
    {
      "cell_type": "code",
      "source": [
        "ef.head(9)"
      ],
      "metadata": {
        "id": "PUfZInn1wIXV"
      },
      "execution_count": null,
      "outputs": []
    },
    {
      "cell_type": "code",
      "source": [
        "ef.info()"
      ],
      "metadata": {
        "id": "kbpsvBNtwMAM"
      },
      "execution_count": null,
      "outputs": []
    },
    {
      "cell_type": "code",
      "source": [
        "assert len(ef.index) == len(zz.index)*7"
      ],
      "metadata": {
        "id": "y5kr7GxbwZTz"
      },
      "execution_count": null,
      "outputs": []
    },
    {
      "cell_type": "code",
      "source": [
        "xx.head(80)"
      ],
      "metadata": {
        "id": "HqBNVRIZwkR8"
      },
      "execution_count": null,
      "outputs": []
    },
    {
      "cell_type": "code",
      "source": [
        "zz.head()"
      ],
      "metadata": {
        "id": "ZItRo4OODY9z"
      },
      "execution_count": null,
      "outputs": []
    },
    {
      "cell_type": "markdown",
      "source": [
        "## Post Process\n",
        "* Drop the original datetime (minute bars)\n",
        "* convert the 'D' dates to the new index"
      ],
      "metadata": {
        "id": "mkl68JLuln5w"
      }
    },
    {
      "cell_type": "code",
      "source": [
        "xx = xx.drop('datetime', axis=1)"
      ],
      "metadata": {
        "id": "gEF2dH1SlcoV"
      },
      "execution_count": null,
      "outputs": []
    },
    {
      "cell_type": "code",
      "source": [
        "xx.rename(columns={'D':'datetime'}, inplace=1)"
      ],
      "metadata": {
        "id": "EnEySuHUl79a"
      },
      "execution_count": null,
      "outputs": []
    },
    {
      "cell_type": "code",
      "source": [
        "xx = xx.set_index('datetime')"
      ],
      "metadata": {
        "id": "qC-UuQ-3l7Q0"
      },
      "execution_count": null,
      "outputs": []
    },
    {
      "cell_type": "code",
      "source": [
        "xx.head()"
      ],
      "metadata": {
        "id": "mxzsN7d5mkyx"
      },
      "execution_count": null,
      "outputs": []
    },
    {
      "cell_type": "markdown",
      "source": [
        "## Finalize to CSVs and download\n",
        "* create a new symbol for each date-year-range\n",
        "* drop the I column and write csv"
      ],
      "metadata": {
        "id": "_D9xVNKDnQ4e"
      }
    },
    {
      "cell_type": "code",
      "source": [
        "mkdir -p \"/content/CSV\""
      ],
      "metadata": {
        "id": "qE9VjiHgqzoI"
      },
      "execution_count": null,
      "outputs": []
    },
    {
      "cell_type": "code",
      "source": [
        "mkdir -p \"/content/events\""
      ],
      "metadata": {
        "id": "8nNwZ-JiDxDX"
      },
      "execution_count": null,
      "outputs": []
    },
    {
      "cell_type": "code",
      "source": [
        "xx['I'].max()"
      ],
      "metadata": {
        "id": "gRjVO00tm-Yr"
      },
      "execution_count": null,
      "outputs": []
    },
    {
      "cell_type": "code",
      "source": [
        "maxi = xx['I'].max()+1\n",
        "for i in range(0, maxi):\n",
        "  csv_name = '/content/CSV/{}.csv'.format(symbol_from_level(symbol, i))\n",
        "  xx[xx['I'] == i].to_csv(csv_name, mode='w', columns = ['open', 'high', 'low', 'close', 'vol', 'realClose'])"
      ],
      "metadata": {
        "id": "6R4r-Nnlne_6"
      },
      "execution_count": null,
      "outputs": []
    },
    {
      "cell_type": "code",
      "source": [
        "!zip -r /content/AAPL.CSV.zip /content/CSV"
      ],
      "metadata": {
        "id": "mKGsjln9rbO3"
      },
      "execution_count": null,
      "outputs": []
    },
    {
      "cell_type": "code",
      "source": [
        "event_list_file = '/content/events/{}.csv'.format(symbol)\n",
        "ef.to_csv(event_list_file, mode='w', index=False)"
      ],
      "metadata": {
        "id": "G07kAyZJD3IR"
      },
      "execution_count": null,
      "outputs": []
    },
    {
      "cell_type": "code",
      "source": [
        "\n",
        "files.download('/content/AAPL.CSV.zip')\n",
        "files.download(event_list_file)"
      ],
      "metadata": {
        "id": "mfFIqG_Ir-ZU"
      },
      "execution_count": null,
      "outputs": []
    },
    {
      "cell_type": "code",
      "source": [
        "t2 = time.perf_counter()\n",
        "print('time taken to run:',t2-t1)"
      ],
      "metadata": {
        "id": "gZnrnxkfB0FZ"
      },
      "execution_count": null,
      "outputs": []
    }
  ]
}